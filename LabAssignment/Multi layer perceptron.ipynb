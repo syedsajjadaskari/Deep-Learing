{
 "cells": [
  {
   "cell_type": "code",
   "execution_count": 11,
   "id": "b115ebc7",
   "metadata": {},
   "outputs": [
    {
     "name": "stdout",
     "output_type": "stream",
     "text": [
      "\u001b[33mDEPRECATION: Configuring installation scheme with distutils config files is deprecated and will no longer work in the near future. If you are using a Homebrew or Linuxbrew Python, please see discussion at https://github.com/Homebrew/homebrew-core/issues/76621\u001b[0m\u001b[33m\n",
      "\u001b[0mCollecting seaborn\n",
      "  Downloading seaborn-0.12.1-py3-none-any.whl (288 kB)\n",
      "\u001b[2K     \u001b[90m━━━━━━━━━━━━━━━━━━━━━━━━━━━━━━━━━━━━━━━\u001b[0m \u001b[32m288.2/288.2 kB\u001b[0m \u001b[31m3.2 MB/s\u001b[0m eta \u001b[36m0:00:00\u001b[0m00:01\u001b[0m00:01\u001b[0m\n",
      "\u001b[?25hRequirement already satisfied: numpy>=1.17 in /usr/local/lib/python3.9/site-packages (from seaborn) (1.23.5)\n",
      "Requirement already satisfied: matplotlib!=3.6.1,>=3.1 in /usr/local/lib/python3.9/site-packages (from seaborn) (3.6.2)\n",
      "Requirement already satisfied: pandas>=0.25 in /usr/local/lib/python3.9/site-packages (from seaborn) (1.5.2)\n",
      "Requirement already satisfied: cycler>=0.10 in /usr/local/lib/python3.9/site-packages (from matplotlib!=3.6.1,>=3.1->seaborn) (0.11.0)\n",
      "Requirement already satisfied: fonttools>=4.22.0 in /usr/local/lib/python3.9/site-packages (from matplotlib!=3.6.1,>=3.1->seaborn) (4.38.0)\n",
      "Requirement already satisfied: pillow>=6.2.0 in /usr/local/lib/python3.9/site-packages (from matplotlib!=3.6.1,>=3.1->seaborn) (9.3.0)\n",
      "Requirement already satisfied: pyparsing>=2.2.1 in /usr/local/lib/python3.9/site-packages (from matplotlib!=3.6.1,>=3.1->seaborn) (3.0.9)\n",
      "Requirement already satisfied: kiwisolver>=1.0.1 in /usr/local/lib/python3.9/site-packages (from matplotlib!=3.6.1,>=3.1->seaborn) (1.4.4)\n",
      "Requirement already satisfied: contourpy>=1.0.1 in /usr/local/lib/python3.9/site-packages (from matplotlib!=3.6.1,>=3.1->seaborn) (1.0.6)\n",
      "Requirement already satisfied: python-dateutil>=2.7 in /usr/local/lib/python3.9/site-packages (from matplotlib!=3.6.1,>=3.1->seaborn) (2.8.2)\n",
      "Requirement already satisfied: packaging>=20.0 in /usr/local/lib/python3.9/site-packages (from matplotlib!=3.6.1,>=3.1->seaborn) (21.3)\n",
      "Requirement already satisfied: pytz>=2020.1 in /usr/local/lib/python3.9/site-packages (from pandas>=0.25->seaborn) (2022.6)\n",
      "Requirement already satisfied: six>=1.5 in /usr/local/lib/python3.9/site-packages (from python-dateutil>=2.7->matplotlib!=3.6.1,>=3.1->seaborn) (1.16.0)\n",
      "Installing collected packages: seaborn\n",
      "\u001b[33m  DEPRECATION: Configuring installation scheme with distutils config files is deprecated and will no longer work in the near future. If you are using a Homebrew or Linuxbrew Python, please see discussion at https://github.com/Homebrew/homebrew-core/issues/76621\u001b[0m\u001b[33m\n",
      "\u001b[0m\u001b[33mDEPRECATION: Configuring installation scheme with distutils config files is deprecated and will no longer work in the near future. If you are using a Homebrew or Linuxbrew Python, please see discussion at https://github.com/Homebrew/homebrew-core/issues/76621\u001b[0m\u001b[33m\n",
      "\u001b[0mSuccessfully installed seaborn-0.12.1\n",
      "\u001b[33mWARNING: There was an error checking the latest version of pip.\u001b[0m\u001b[33m\n",
      "\u001b[0m"
     ]
    }
   ],
   "source": [
    "\n",
    "!pip3 install seaborn \n"
   ]
  },
  {
   "cell_type": "code",
   "execution_count": 21,
   "id": "0d5e3f3d",
   "metadata": {},
   "outputs": [],
   "source": [
    "import pandas as pd\n",
    "import seaborn as sns\n",
    "import numpy as np\n",
    "import matplotlib.pyplot as plt\n",
    "import random"
   ]
  },
  {
   "cell_type": "code",
   "execution_count": 22,
   "id": "235230ac",
   "metadata": {},
   "outputs": [],
   "source": [
    "iris = sns.load_dataset(name= 'iris')"
   ]
  },
  {
   "cell_type": "code",
   "execution_count": 23,
   "id": "a4813202",
   "metadata": {},
   "outputs": [
    {
     "data": {
      "text/html": [
       "<div>\n",
       "<style scoped>\n",
       "    .dataframe tbody tr th:only-of-type {\n",
       "        vertical-align: middle;\n",
       "    }\n",
       "\n",
       "    .dataframe tbody tr th {\n",
       "        vertical-align: top;\n",
       "    }\n",
       "\n",
       "    .dataframe thead th {\n",
       "        text-align: right;\n",
       "    }\n",
       "</style>\n",
       "<table border=\"1\" class=\"dataframe\">\n",
       "  <thead>\n",
       "    <tr style=\"text-align: right;\">\n",
       "      <th></th>\n",
       "      <th>sepal_length</th>\n",
       "      <th>sepal_width</th>\n",
       "      <th>petal_length</th>\n",
       "      <th>petal_width</th>\n",
       "      <th>species</th>\n",
       "    </tr>\n",
       "  </thead>\n",
       "  <tbody>\n",
       "    <tr>\n",
       "      <th>0</th>\n",
       "      <td>5.1</td>\n",
       "      <td>3.5</td>\n",
       "      <td>1.4</td>\n",
       "      <td>0.2</td>\n",
       "      <td>setosa</td>\n",
       "    </tr>\n",
       "    <tr>\n",
       "      <th>1</th>\n",
       "      <td>4.9</td>\n",
       "      <td>3.0</td>\n",
       "      <td>1.4</td>\n",
       "      <td>0.2</td>\n",
       "      <td>setosa</td>\n",
       "    </tr>\n",
       "    <tr>\n",
       "      <th>2</th>\n",
       "      <td>4.7</td>\n",
       "      <td>3.2</td>\n",
       "      <td>1.3</td>\n",
       "      <td>0.2</td>\n",
       "      <td>setosa</td>\n",
       "    </tr>\n",
       "    <tr>\n",
       "      <th>3</th>\n",
       "      <td>4.6</td>\n",
       "      <td>3.1</td>\n",
       "      <td>1.5</td>\n",
       "      <td>0.2</td>\n",
       "      <td>setosa</td>\n",
       "    </tr>\n",
       "    <tr>\n",
       "      <th>4</th>\n",
       "      <td>5.0</td>\n",
       "      <td>3.6</td>\n",
       "      <td>1.4</td>\n",
       "      <td>0.2</td>\n",
       "      <td>setosa</td>\n",
       "    </tr>\n",
       "  </tbody>\n",
       "</table>\n",
       "</div>"
      ],
      "text/plain": [
       "   sepal_length  sepal_width  petal_length  petal_width species\n",
       "0           5.1          3.5           1.4          0.2  setosa\n",
       "1           4.9          3.0           1.4          0.2  setosa\n",
       "2           4.7          3.2           1.3          0.2  setosa\n",
       "3           4.6          3.1           1.5          0.2  setosa\n",
       "4           5.0          3.6           1.4          0.2  setosa"
      ]
     },
     "execution_count": 23,
     "metadata": {},
     "output_type": "execute_result"
    }
   ],
   "source": [
    "iris.head()"
   ]
  },
  {
   "cell_type": "code",
   "execution_count": 141,
   "id": "6958844c",
   "metadata": {},
   "outputs": [],
   "source": [
    "class Mlp():\n",
    "##Initializing the paramaters\n",
    "\n",
    "    def __init__(self, epoch, learing_rate, inputLayer, hiddenLayer, outputLayer):\n",
    "        # the number of the iteration\n",
    "        self.epoch = epoch\n",
    "        ##Learing rate\n",
    "        self.learing_rate = learing_rate\n",
    "        #input layer \n",
    "        self.inputLayer = inputLayer\n",
    "        #hidden Layer\n",
    "        self.hiddenLayer = hiddenLayer\n",
    "        # Output Layer\n",
    "        self.outputlayer = outputLayer\n",
    "        \n",
    "        np.random.seed(1)\n",
    "        W1 = np.random.normal(0, 1, (self.hiddenLayer, self.inputLayer)) # 2x2\n",
    "        W2 = np.random.normal(0, 1, (self.outputlayer, self.hiddenLayer)) # 1x2\n",
    "\n",
    "        B1 = np.random.random((hiddenLayer, 1)) # 2x1\n",
    "        B2 = np.random.random((outputLayer, 1)) # 1x1\n",
    "        \n",
    "    ##Activation Function\n",
    "    def feedforward(self, X):\n",
    "        self.z2 = np.dot(X, self.W1) + self.b1\n",
    "        self.a2 = self.sigmoid(self.z2, deriv=False)\n",
    "        self.z3 = np.dot(self.a2, self.W2) + self.b2\n",
    "        a3 = self.sigmoid(self.z3, deriv=False)\n",
    "\n",
    "        return a3\n",
    "\n",
    "    def backpropagate(self, X, y):\n",
    "        # declaring epoch for training\n",
    "        epoch = 5\n",
    "        for i in range(epoch):\n",
    "            print(\"Epoch: \", i+1)\n",
    "            # getting derivatives wrt to all weights in network\n",
    "            # Matrix Equations of derivatives from Welch's Lab\n",
    "            # dJ/dW2\n",
    "            hx = self.feedforward(X)\n",
    "            d3 = multiply(-(y - hx), self.sigmoid(self.z3,deriv=True))\n",
    "            dw2 = np.dot(self.a2.T, d3)\n",
    "\n",
    "            # dJ/dW1\n",
    "            d2 = np.dot(d3, self.W2.T) * self.sigmoid(self.z2, deriv=True)\n",
    "            dw1 = np.dot(X.T, d2)\n",
    "\n",
    "            self.W1 -= 0.01 * dw1\n",
    "            self.W2 -= 0.01 * dw2\n",
    "\n",
    "    def sigmoid(self, z, deriv=False):\n",
    "        if deriv is True:\n",
    "            ez = 1 / (1 + exp(-z))\n",
    "            return ez * (1 - ez)\n",
    "        else:\n",
    "            return 1 / (1 + exp(-z))\n",
    "\n",
    "\n",
    "        \n",
    "    \n",
    "                \n",
    "\n",
    "    "
   ]
  },
  {
   "cell_type": "code",
   "execution_count": 142,
   "id": "508daf10",
   "metadata": {},
   "outputs": [],
   "source": [
    "Epochs = 4\n",
    "InputLayer = 2\n",
    "OutputLayer = 3\n",
    "HiddenLayer = 1\n",
    "Learing_rate = 0.05\n",
    "nn = Mlp(epoch = Epochs, learing_rate =Learing_rate , inputLayer = InputLayer, hiddenLayer = HiddenLayer, outputLayer = OutputLayer )"
   ]
  },
  {
   "cell_type": "code",
   "execution_count": 140,
   "id": "9d5ccd4e",
   "metadata": {},
   "outputs": [
    {
     "name": "stdout",
     "output_type": "stream",
     "text": [
      "Epoch:  1\n"
     ]
    },
    {
     "ename": "AttributeError",
     "evalue": "'Mlp' object has no attribute 'W1'",
     "output_type": "error",
     "traceback": [
      "\u001b[0;31m---------------------------------------------------------------------------\u001b[0m",
      "\u001b[0;31mAttributeError\u001b[0m                            Traceback (most recent call last)",
      "Cell \u001b[0;32mIn[140], line 1\u001b[0m\n\u001b[0;32m----> 1\u001b[0m \u001b[43mnn\u001b[49m\u001b[38;5;241;43m.\u001b[39;49m\u001b[43mbackpropagate\u001b[49m\u001b[43m(\u001b[49m\u001b[43mX\u001b[49m\u001b[43m,\u001b[49m\u001b[43m \u001b[49m\u001b[43my\u001b[49m\u001b[43m)\u001b[49m\n",
      "Cell \u001b[0;32mIn[138], line 40\u001b[0m, in \u001b[0;36mMlp.backpropagate\u001b[0;34m(self, X, y)\u001b[0m\n\u001b[1;32m     36\u001b[0m \u001b[38;5;28mprint\u001b[39m(\u001b[38;5;124m\"\u001b[39m\u001b[38;5;124mEpoch: \u001b[39m\u001b[38;5;124m\"\u001b[39m, i\u001b[38;5;241m+\u001b[39m\u001b[38;5;241m1\u001b[39m)\n\u001b[1;32m     37\u001b[0m \u001b[38;5;66;03m# getting derivatives wrt to all weights in network\u001b[39;00m\n\u001b[1;32m     38\u001b[0m \u001b[38;5;66;03m# Matrix Equations of derivatives from Welch's Lab\u001b[39;00m\n\u001b[1;32m     39\u001b[0m \u001b[38;5;66;03m# dJ/dW2\u001b[39;00m\n\u001b[0;32m---> 40\u001b[0m hx \u001b[38;5;241m=\u001b[39m \u001b[38;5;28;43mself\u001b[39;49m\u001b[38;5;241;43m.\u001b[39;49m\u001b[43mfeedforward\u001b[49m\u001b[43m(\u001b[49m\u001b[43mX\u001b[49m\u001b[43m)\u001b[49m\n\u001b[1;32m     41\u001b[0m d3 \u001b[38;5;241m=\u001b[39m multiply(\u001b[38;5;241m-\u001b[39m(y \u001b[38;5;241m-\u001b[39m hx), \u001b[38;5;28mself\u001b[39m\u001b[38;5;241m.\u001b[39msigmoid(\u001b[38;5;28mself\u001b[39m\u001b[38;5;241m.\u001b[39mz3,deriv\u001b[38;5;241m=\u001b[39m\u001b[38;5;28;01mTrue\u001b[39;00m))\n\u001b[1;32m     42\u001b[0m dw2 \u001b[38;5;241m=\u001b[39m np\u001b[38;5;241m.\u001b[39mdot(\u001b[38;5;28mself\u001b[39m\u001b[38;5;241m.\u001b[39ma2\u001b[38;5;241m.\u001b[39mT, d3)\n",
      "Cell \u001b[0;32mIn[138], line 25\u001b[0m, in \u001b[0;36mMlp.feedforward\u001b[0;34m(self, X)\u001b[0m\n\u001b[1;32m     24\u001b[0m \u001b[38;5;28;01mdef\u001b[39;00m \u001b[38;5;21mfeedforward\u001b[39m(\u001b[38;5;28mself\u001b[39m, X):\n\u001b[0;32m---> 25\u001b[0m     \u001b[38;5;28mself\u001b[39m\u001b[38;5;241m.\u001b[39mz2 \u001b[38;5;241m=\u001b[39m np\u001b[38;5;241m.\u001b[39mdot(X, \u001b[38;5;28;43mself\u001b[39;49m\u001b[38;5;241;43m.\u001b[39;49m\u001b[43mW1\u001b[49m) \u001b[38;5;241m+\u001b[39m \u001b[38;5;28mself\u001b[39m\u001b[38;5;241m.\u001b[39mb1\n\u001b[1;32m     26\u001b[0m     \u001b[38;5;28mself\u001b[39m\u001b[38;5;241m.\u001b[39ma2 \u001b[38;5;241m=\u001b[39m \u001b[38;5;28mself\u001b[39m\u001b[38;5;241m.\u001b[39msigmoid(\u001b[38;5;28mself\u001b[39m\u001b[38;5;241m.\u001b[39mz2, deriv\u001b[38;5;241m=\u001b[39m\u001b[38;5;28;01mFalse\u001b[39;00m)\n\u001b[1;32m     27\u001b[0m     \u001b[38;5;28mself\u001b[39m\u001b[38;5;241m.\u001b[39mz3 \u001b[38;5;241m=\u001b[39m np\u001b[38;5;241m.\u001b[39mdot(\u001b[38;5;28mself\u001b[39m\u001b[38;5;241m.\u001b[39ma2, \u001b[38;5;28mself\u001b[39m\u001b[38;5;241m.\u001b[39mW2) \u001b[38;5;241m+\u001b[39m \u001b[38;5;28mself\u001b[39m\u001b[38;5;241m.\u001b[39mb2\n",
      "\u001b[0;31mAttributeError\u001b[0m: 'Mlp' object has no attribute 'W1'"
     ]
    }
   ],
   "source": [
    "\n",
    "nn.backpropagate(X, y)"
   ]
  },
  {
   "cell_type": "code",
   "execution_count": 124,
   "id": "4bb4b468",
   "metadata": {},
   "outputs": [],
   "source": [
    "# The training data.\n",
    "X = np.array([\n",
    "    [0, 1],\n",
    "    [1, 0],\n",
    "    [1, 1],\n",
    "    [0, 0]\n",
    "])\n",
    "\n",
    "# The labels for the training data.\n",
    "y = np.array([\n",
    "    [1],\n",
    "    [1],\n",
    "    [0],\n",
    "    [0]\n",
    "])"
   ]
  },
  {
   "cell_type": "code",
   "execution_count": 153,
   "id": "c55c1119",
   "metadata": {},
   "outputs": [],
   "source": [
    "class Perceptron:\n",
    "    def __init__(self, train, hidden, outputs, target, lr=0.01, iters=10000):\n",
    "        self.num_inputs = train.shape[1] \n",
    "        self.hidden = hidden\n",
    "        self.output = outputs\n",
    "        self.x = train\n",
    "        self.y = target\n",
    "        self.iters = iters\n",
    "        self.lr = lr\n",
    "        \n",
    "        self.w1 = np.random.uniform(size=(self.num_inputs, self.hidden))\n",
    "        self.w2 = np.random.uniform(size=(self.hidden, self.output))\n",
    "\n",
    "    def sigmoid(self,x):\n",
    "        \"\"\"\n",
    "        Sigmoid activation:\n",
    "        \"\"\"\n",
    "\n",
    "        return 1/(1+np.exp(-x)) \n",
    "\n",
    "    def classify(self, x):\n",
    "        \"\"\"\n",
    "        Forward pass. \n",
    "        \"\"\"\n",
    "        z0 = np.dot(x, self.w1)         \n",
    "        a0 = self.sigmoid(z0)               \n",
    "        z1 = np.dot(a0,self.w2)                      \n",
    "\n",
    "        return self.sigmoid(z1) \n",
    "\n",
    "    def fit(self):\n",
    "        for __ in range(self.iters):\n",
    "            z0 = np.dot(self.x, self.w1)    #(Nx4)\n",
    "            a0 = self.sigmoid(z0)           #(Nx4)\n",
    "            z1 = np.dot(a0,self.w2)         #(Nx1)\n",
    "            a1 = self.sigmoid(z1)           #(Nx1)\n",
    "\n",
    "            delta_w2 = (a1-self.y) * a1*(1-a1)              #(Nx1)\n",
    "            delta_w1 = np.dot(delta_w2, self.w2.T) * (1-a0) #(Nx4)\n",
    "\n",
    "            self.w1 -= self.lr*np.dot(self.x.T,delta_w1)    #(3x4)\n",
    "            self.w2 -= self.lr*np.dot(a0.T,delta_w2)        #(4x1)\n",
    "\n",
    "\n"
   ]
  },
  {
   "cell_type": "code",
   "execution_count": 154,
   "id": "a0b30ce3",
   "metadata": {},
   "outputs": [
    {
     "ename": "IndexError",
     "evalue": "tuple index out of range",
     "output_type": "error",
     "traceback": [
      "\u001b[0;31m---------------------------------------------------------------------------\u001b[0m",
      "\u001b[0;31mIndexError\u001b[0m                                Traceback (most recent call last)",
      "Cell \u001b[0;32mIn[154], line 1\u001b[0m\n\u001b[0;32m----> 1\u001b[0m nn \u001b[38;5;241m=\u001b[39m \u001b[43mPerceptron\u001b[49m\u001b[43m(\u001b[49m\u001b[43mtrain\u001b[49m\u001b[38;5;241;43m=\u001b[39;49m\u001b[43mX\u001b[49m\u001b[43m,\u001b[49m\u001b[43m \u001b[49m\u001b[43mhidden\u001b[49m\u001b[38;5;241;43m=\u001b[39;49m\u001b[38;5;241;43m4\u001b[39;49m\u001b[43m,\u001b[49m\u001b[43m \u001b[49m\u001b[43moutputs\u001b[49m\u001b[38;5;241;43m=\u001b[39;49m\u001b[38;5;241;43m1\u001b[39;49m\u001b[43m,\u001b[49m\u001b[43m \u001b[49m\u001b[43mtarget\u001b[49m\u001b[38;5;241;43m=\u001b[39;49m\u001b[43my\u001b[49m\u001b[43m,\u001b[49m\u001b[43m \u001b[49m\u001b[43mlr\u001b[49m\u001b[38;5;241;43m=\u001b[39;49m\u001b[38;5;241;43m0.1\u001b[39;49m\u001b[43m,\u001b[49m\u001b[43m \u001b[49m\u001b[43miters\u001b[49m\u001b[38;5;241;43m=\u001b[39;49m\u001b[38;5;241;43m30000\u001b[39;49m\u001b[43m)\u001b[49m\n\u001b[1;32m      2\u001b[0m nn\u001b[38;5;241m.\u001b[39mfit()\n",
      "Cell \u001b[0;32mIn[153], line 3\u001b[0m, in \u001b[0;36mPerceptron.__init__\u001b[0;34m(self, train, hidden, outputs, target, lr, iters)\u001b[0m\n\u001b[1;32m      2\u001b[0m \u001b[38;5;28;01mdef\u001b[39;00m \u001b[38;5;21m__init__\u001b[39m(\u001b[38;5;28mself\u001b[39m, train, hidden, outputs, target, lr\u001b[38;5;241m=\u001b[39m\u001b[38;5;241m0.01\u001b[39m, iters\u001b[38;5;241m=\u001b[39m\u001b[38;5;241m10000\u001b[39m):\n\u001b[0;32m----> 3\u001b[0m     \u001b[38;5;28mself\u001b[39m\u001b[38;5;241m.\u001b[39mnum_inputs \u001b[38;5;241m=\u001b[39m \u001b[43mtrain\u001b[49m\u001b[38;5;241;43m.\u001b[39;49m\u001b[43mshape\u001b[49m\u001b[43m[\u001b[49m\u001b[38;5;241;43m2\u001b[39;49m\u001b[43m]\u001b[49m \n\u001b[1;32m      4\u001b[0m     \u001b[38;5;28mself\u001b[39m\u001b[38;5;241m.\u001b[39mhidden \u001b[38;5;241m=\u001b[39m hidden\n\u001b[1;32m      5\u001b[0m     \u001b[38;5;28mself\u001b[39m\u001b[38;5;241m.\u001b[39moutput \u001b[38;5;241m=\u001b[39m outputs\n",
      "\u001b[0;31mIndexError\u001b[0m: tuple index out of range"
     ]
    }
   ],
   "source": [
    "nn = Perceptron(train=X, hidden=4, outputs=1, target=y, lr=0.1, iters=30000)\n",
    "nn.fit()\n"
   ]
  },
  {
   "cell_type": "code",
   "execution_count": null,
   "id": "4b91cf0d",
   "metadata": {},
   "outputs": [],
   "source": []
  }
 ],
 "metadata": {
  "kernelspec": {
   "display_name": "Python 3 (ipykernel)",
   "language": "python",
   "name": "python3"
  },
  "language_info": {
   "codemirror_mode": {
    "name": "ipython",
    "version": 3
   },
   "file_extension": ".py",
   "mimetype": "text/x-python",
   "name": "python",
   "nbconvert_exporter": "python",
   "pygments_lexer": "ipython3",
   "version": "3.9.13"
  }
 },
 "nbformat": 4,
 "nbformat_minor": 5
}
