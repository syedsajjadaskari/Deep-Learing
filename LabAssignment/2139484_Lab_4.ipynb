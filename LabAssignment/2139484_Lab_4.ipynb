{
 "cells": [
  {
   "attachments": {},
   "cell_type": "markdown",
   "id": "d9617b2f",
   "metadata": {},
   "source": [
    "# Question:\n",
    "#### Q1. Build a MLP architecture with two or more hidden layers\n",
    "* Use any open data set from kaggle or public forum\n",
    "* Perform train, validation and test split of data set\n",
    "* Compute the cost for all epochs and plot (either MSE or accuracy) (refer fig)\n"
   ]
  },
  {
   "cell_type": "code",
   "execution_count": 1,
   "id": "136faa0d",
   "metadata": {},
   "outputs": [],
   "source": [
    "import pandas as pd\n",
    "import seaborn as sb\n",
    "import numpy as np\n",
    "from palmerpenguins import load_penguins\n",
    "from sklearn.model_selection import train_test_split\n",
    "from sklearn.metrics import confusion_matrix"
   ]
  },
  {
   "cell_type": "markdown",
   "id": "67395259",
   "metadata": {},
   "source": [
    "**Penguin Dataset**"
   ]
  },
  {
   "cell_type": "code",
   "execution_count": 27,
   "id": "ea264bbd",
   "metadata": {},
   "outputs": [
    {
     "data": {
      "text/html": [
       "<div>\n",
       "<style scoped>\n",
       "    .dataframe tbody tr th:only-of-type {\n",
       "        vertical-align: middle;\n",
       "    }\n",
       "\n",
       "    .dataframe tbody tr th {\n",
       "        vertical-align: top;\n",
       "    }\n",
       "\n",
       "    .dataframe thead th {\n",
       "        text-align: right;\n",
       "    }\n",
       "</style>\n",
       "<table border=\"1\" class=\"dataframe\">\n",
       "  <thead>\n",
       "    <tr style=\"text-align: right;\">\n",
       "      <th></th>\n",
       "      <th>species</th>\n",
       "      <th>island</th>\n",
       "      <th>bill_length_mm</th>\n",
       "      <th>bill_depth_mm</th>\n",
       "      <th>flipper_length_mm</th>\n",
       "      <th>body_mass_g</th>\n",
       "      <th>sex</th>\n",
       "      <th>year</th>\n",
       "    </tr>\n",
       "  </thead>\n",
       "  <tbody>\n",
       "    <tr>\n",
       "      <th>0</th>\n",
       "      <td>Adelie</td>\n",
       "      <td>Torgersen</td>\n",
       "      <td>39.1</td>\n",
       "      <td>18.7</td>\n",
       "      <td>181.0</td>\n",
       "      <td>3750.0</td>\n",
       "      <td>male</td>\n",
       "      <td>2007</td>\n",
       "    </tr>\n",
       "    <tr>\n",
       "      <th>1</th>\n",
       "      <td>Adelie</td>\n",
       "      <td>Torgersen</td>\n",
       "      <td>39.5</td>\n",
       "      <td>17.4</td>\n",
       "      <td>186.0</td>\n",
       "      <td>3800.0</td>\n",
       "      <td>female</td>\n",
       "      <td>2007</td>\n",
       "    </tr>\n",
       "    <tr>\n",
       "      <th>2</th>\n",
       "      <td>Adelie</td>\n",
       "      <td>Torgersen</td>\n",
       "      <td>40.3</td>\n",
       "      <td>18.0</td>\n",
       "      <td>195.0</td>\n",
       "      <td>3250.0</td>\n",
       "      <td>female</td>\n",
       "      <td>2007</td>\n",
       "    </tr>\n",
       "    <tr>\n",
       "      <th>3</th>\n",
       "      <td>Adelie</td>\n",
       "      <td>Torgersen</td>\n",
       "      <td>NaN</td>\n",
       "      <td>NaN</td>\n",
       "      <td>NaN</td>\n",
       "      <td>NaN</td>\n",
       "      <td>NaN</td>\n",
       "      <td>2007</td>\n",
       "    </tr>\n",
       "    <tr>\n",
       "      <th>4</th>\n",
       "      <td>Adelie</td>\n",
       "      <td>Torgersen</td>\n",
       "      <td>36.7</td>\n",
       "      <td>19.3</td>\n",
       "      <td>193.0</td>\n",
       "      <td>3450.0</td>\n",
       "      <td>female</td>\n",
       "      <td>2007</td>\n",
       "    </tr>\n",
       "  </tbody>\n",
       "</table>\n",
       "</div>"
      ],
      "text/plain": [
       "  species     island  bill_length_mm  bill_depth_mm  flipper_length_mm  \\\n",
       "0  Adelie  Torgersen            39.1           18.7              181.0   \n",
       "1  Adelie  Torgersen            39.5           17.4              186.0   \n",
       "2  Adelie  Torgersen            40.3           18.0              195.0   \n",
       "3  Adelie  Torgersen             NaN            NaN                NaN   \n",
       "4  Adelie  Torgersen            36.7           19.3              193.0   \n",
       "\n",
       "   body_mass_g     sex  year  \n",
       "0       3750.0    male  2007  \n",
       "1       3800.0  female  2007  \n",
       "2       3250.0  female  2007  \n",
       "3          NaN     NaN  2007  \n",
       "4       3450.0  female  2007  "
      ]
     },
     "execution_count": 27,
     "metadata": {},
     "output_type": "execute_result"
    }
   ],
   "source": [
    "df = load_penguins()\n",
    "df.head()"
   ]
  },
  {
   "cell_type": "markdown",
   "id": "39dde324",
   "metadata": {},
   "source": [
    "**Data Preprocessing**"
   ]
  },
  {
   "cell_type": "code",
   "execution_count": 28,
   "id": "be119aca",
   "metadata": {},
   "outputs": [
    {
     "data": {
      "text/plain": [
       "array(['Torgersen', 'Biscoe', 'Dream'], dtype=object)"
      ]
     },
     "execution_count": 28,
     "metadata": {},
     "output_type": "execute_result"
    }
   ],
   "source": [
    "df['island'].unique()"
   ]
  },
  {
   "cell_type": "code",
   "execution_count": 29,
   "id": "006c03d2",
   "metadata": {},
   "outputs": [],
   "source": [
    "from sklearn import preprocessing\n",
    "#creating label encoder\n",
    "label = preprocessing.LabelEncoder()\n",
    "\n",
    "#converting values in labels\n",
    "df['island'] = label.fit_transform(df['island'])\n"
   ]
  },
  {
   "cell_type": "code",
   "execution_count": 30,
   "id": "ce2b6bd4",
   "metadata": {},
   "outputs": [
    {
     "data": {
      "text/plain": [
       "(344, 8)"
      ]
     },
     "execution_count": 30,
     "metadata": {},
     "output_type": "execute_result"
    }
   ],
   "source": [
    "df.shape"
   ]
  },
  {
   "cell_type": "code",
   "execution_count": 31,
   "id": "98cf2c46",
   "metadata": {},
   "outputs": [
    {
     "data": {
      "text/plain": [
       "species               0\n",
       "island                0\n",
       "bill_length_mm        2\n",
       "bill_depth_mm         2\n",
       "flipper_length_mm     2\n",
       "body_mass_g           2\n",
       "sex                  11\n",
       "year                  0\n",
       "dtype: int64"
      ]
     },
     "execution_count": 31,
     "metadata": {},
     "output_type": "execute_result"
    }
   ],
   "source": [
    "df.isnull().sum()"
   ]
  },
  {
   "cell_type": "code",
   "execution_count": 5,
   "id": "6aa4c17e",
   "metadata": {},
   "outputs": [
    {
     "data": {
      "text/html": [
       "<div>\n",
       "<style scoped>\n",
       "    .dataframe tbody tr th:only-of-type {\n",
       "        vertical-align: middle;\n",
       "    }\n",
       "\n",
       "    .dataframe tbody tr th {\n",
       "        vertical-align: top;\n",
       "    }\n",
       "\n",
       "    .dataframe thead th {\n",
       "        text-align: right;\n",
       "    }\n",
       "</style>\n",
       "<table border=\"1\" class=\"dataframe\">\n",
       "  <thead>\n",
       "    <tr style=\"text-align: right;\">\n",
       "      <th></th>\n",
       "      <th>species</th>\n",
       "      <th>island</th>\n",
       "      <th>bill_length_mm</th>\n",
       "      <th>bill_depth_mm</th>\n",
       "      <th>flipper_length_mm</th>\n",
       "      <th>body_mass_g</th>\n",
       "      <th>sex</th>\n",
       "      <th>year</th>\n",
       "    </tr>\n",
       "  </thead>\n",
       "  <tbody>\n",
       "    <tr>\n",
       "      <th>0</th>\n",
       "      <td>Adelie</td>\n",
       "      <td>2</td>\n",
       "      <td>39.1</td>\n",
       "      <td>18.7</td>\n",
       "      <td>181.0</td>\n",
       "      <td>3750.0</td>\n",
       "      <td>male</td>\n",
       "      <td>2007</td>\n",
       "    </tr>\n",
       "    <tr>\n",
       "      <th>1</th>\n",
       "      <td>Adelie</td>\n",
       "      <td>2</td>\n",
       "      <td>39.5</td>\n",
       "      <td>17.4</td>\n",
       "      <td>186.0</td>\n",
       "      <td>3800.0</td>\n",
       "      <td>female</td>\n",
       "      <td>2007</td>\n",
       "    </tr>\n",
       "    <tr>\n",
       "      <th>2</th>\n",
       "      <td>Adelie</td>\n",
       "      <td>2</td>\n",
       "      <td>40.3</td>\n",
       "      <td>18.0</td>\n",
       "      <td>195.0</td>\n",
       "      <td>3250.0</td>\n",
       "      <td>female</td>\n",
       "      <td>2007</td>\n",
       "    </tr>\n",
       "    <tr>\n",
       "      <th>4</th>\n",
       "      <td>Adelie</td>\n",
       "      <td>2</td>\n",
       "      <td>36.7</td>\n",
       "      <td>19.3</td>\n",
       "      <td>193.0</td>\n",
       "      <td>3450.0</td>\n",
       "      <td>female</td>\n",
       "      <td>2007</td>\n",
       "    </tr>\n",
       "    <tr>\n",
       "      <th>5</th>\n",
       "      <td>Adelie</td>\n",
       "      <td>2</td>\n",
       "      <td>39.3</td>\n",
       "      <td>20.6</td>\n",
       "      <td>190.0</td>\n",
       "      <td>3650.0</td>\n",
       "      <td>male</td>\n",
       "      <td>2007</td>\n",
       "    </tr>\n",
       "  </tbody>\n",
       "</table>\n",
       "</div>"
      ],
      "text/plain": [
       "  species  island  bill_length_mm  bill_depth_mm  flipper_length_mm  \\\n",
       "0  Adelie       2            39.1           18.7              181.0   \n",
       "1  Adelie       2            39.5           17.4              186.0   \n",
       "2  Adelie       2            40.3           18.0              195.0   \n",
       "4  Adelie       2            36.7           19.3              193.0   \n",
       "5  Adelie       2            39.3           20.6              190.0   \n",
       "\n",
       "   body_mass_g     sex  year  \n",
       "0       3750.0    male  2007  \n",
       "1       3800.0  female  2007  \n",
       "2       3250.0  female  2007  \n",
       "4       3450.0  female  2007  \n",
       "5       3650.0    male  2007  "
      ]
     },
     "execution_count": 5,
     "metadata": {},
     "output_type": "execute_result"
    }
   ],
   "source": [
    "#dropping null values\n",
    "\n",
    "df = df.dropna()\n",
    "df.head()"
   ]
  },
  {
   "cell_type": "code",
   "execution_count": 9,
   "id": "01edda50",
   "metadata": {},
   "outputs": [
    {
     "data": {
      "text/html": [
       "<div>\n",
       "<style scoped>\n",
       "    .dataframe tbody tr th:only-of-type {\n",
       "        vertical-align: middle;\n",
       "    }\n",
       "\n",
       "    .dataframe tbody tr th {\n",
       "        vertical-align: top;\n",
       "    }\n",
       "\n",
       "    .dataframe thead th {\n",
       "        text-align: right;\n",
       "    }\n",
       "</style>\n",
       "<table border=\"1\" class=\"dataframe\">\n",
       "  <thead>\n",
       "    <tr style=\"text-align: right;\">\n",
       "      <th></th>\n",
       "      <th>bill_length_mm</th>\n",
       "      <th>bill_depth_mm</th>\n",
       "      <th>flipper_length_mm</th>\n",
       "      <th>body_mass_g</th>\n",
       "    </tr>\n",
       "  </thead>\n",
       "  <tbody>\n",
       "    <tr>\n",
       "      <th>91</th>\n",
       "      <td>0.327273</td>\n",
       "      <td>0.595238</td>\n",
       "      <td>0.559322</td>\n",
       "      <td>0.444444</td>\n",
       "    </tr>\n",
       "    <tr>\n",
       "      <th>187</th>\n",
       "      <td>0.592727</td>\n",
       "      <td>0.380952</td>\n",
       "      <td>0.813559</td>\n",
       "      <td>0.750000</td>\n",
       "    </tr>\n",
       "    <tr>\n",
       "      <th>182</th>\n",
       "      <td>0.552727</td>\n",
       "      <td>0.261905</td>\n",
       "      <td>0.847458</td>\n",
       "      <td>0.708333</td>\n",
       "    </tr>\n",
       "    <tr>\n",
       "      <th>275</th>\n",
       "      <td>0.647273</td>\n",
       "      <td>0.357143</td>\n",
       "      <td>0.694915</td>\n",
       "      <td>0.750000</td>\n",
       "    </tr>\n",
       "    <tr>\n",
       "      <th>185</th>\n",
       "      <td>1.000000</td>\n",
       "      <td>0.464286</td>\n",
       "      <td>0.983051</td>\n",
       "      <td>0.930556</td>\n",
       "    </tr>\n",
       "  </tbody>\n",
       "</table>\n",
       "</div>"
      ],
      "text/plain": [
       "     bill_length_mm  bill_depth_mm  flipper_length_mm  body_mass_g\n",
       "91         0.327273       0.595238           0.559322     0.444444\n",
       "187        0.592727       0.380952           0.813559     0.750000\n",
       "182        0.552727       0.261905           0.847458     0.708333\n",
       "275        0.647273       0.357143           0.694915     0.750000\n",
       "185        1.000000       0.464286           0.983051     0.930556"
      ]
     },
     "execution_count": 9,
     "metadata": {},
     "output_type": "execute_result"
    }
   ],
   "source": [
    "#normalizing the data\n",
    "df_norm = df[['bill_length_mm', 'bill_depth_mm','flipper_length_mm','body_mass_g']].apply(lambda x: (x - x.min()) / (x.max() - x.min()))\n",
    "df_norm.sample(n=5)"
   ]
  },
  {
   "cell_type": "markdown",
   "id": "867d274c",
   "metadata": {},
   "source": [
    "Convert the Species labels to indexes for use with neural network.  \n",
    "Adelie = 0  \n",
    "Gentoo= 1  \n",
    "Chinstrap  = 2"
   ]
  },
  {
   "cell_type": "code",
   "execution_count": 10,
   "id": "8d32ec7d",
   "metadata": {},
   "outputs": [
    {
     "data": {
      "text/html": [
       "<div>\n",
       "<style scoped>\n",
       "    .dataframe tbody tr th:only-of-type {\n",
       "        vertical-align: middle;\n",
       "    }\n",
       "\n",
       "    .dataframe tbody tr th {\n",
       "        vertical-align: top;\n",
       "    }\n",
       "\n",
       "    .dataframe thead th {\n",
       "        text-align: right;\n",
       "    }\n",
       "</style>\n",
       "<table border=\"1\" class=\"dataframe\">\n",
       "  <thead>\n",
       "    <tr style=\"text-align: right;\">\n",
       "      <th></th>\n",
       "      <th>species</th>\n",
       "    </tr>\n",
       "  </thead>\n",
       "  <tbody>\n",
       "    <tr>\n",
       "      <th>30</th>\n",
       "      <td>0</td>\n",
       "    </tr>\n",
       "    <tr>\n",
       "      <th>114</th>\n",
       "      <td>0</td>\n",
       "    </tr>\n",
       "    <tr>\n",
       "      <th>262</th>\n",
       "      <td>1</td>\n",
       "    </tr>\n",
       "    <tr>\n",
       "      <th>277</th>\n",
       "      <td>2</td>\n",
       "    </tr>\n",
       "    <tr>\n",
       "      <th>39</th>\n",
       "      <td>0</td>\n",
       "    </tr>\n",
       "  </tbody>\n",
       "</table>\n",
       "</div>"
      ],
      "text/plain": [
       "     species\n",
       "30         0\n",
       "114        0\n",
       "262        1\n",
       "277        2\n",
       "39         0"
      ]
     },
     "execution_count": 10,
     "metadata": {},
     "output_type": "execute_result"
    }
   ],
   "source": [
    "target = df[['species']].replace(['Adelie','Gentoo', 'Chinstrap'],[0,1,2])\n",
    "target.sample(n=5)"
   ]
  },
  {
   "cell_type": "code",
   "execution_count": 11,
   "id": "d07e7786",
   "metadata": {},
   "outputs": [
    {
     "data": {
      "text/html": [
       "<div>\n",
       "<style scoped>\n",
       "    .dataframe tbody tr th:only-of-type {\n",
       "        vertical-align: middle;\n",
       "    }\n",
       "\n",
       "    .dataframe tbody tr th {\n",
       "        vertical-align: top;\n",
       "    }\n",
       "\n",
       "    .dataframe thead th {\n",
       "        text-align: right;\n",
       "    }\n",
       "</style>\n",
       "<table border=\"1\" class=\"dataframe\">\n",
       "  <thead>\n",
       "    <tr style=\"text-align: right;\">\n",
       "      <th></th>\n",
       "      <th>bill_length_mm</th>\n",
       "      <th>bill_depth_mm</th>\n",
       "      <th>flipper_length_mm</th>\n",
       "      <th>body_mass_g</th>\n",
       "      <th>island</th>\n",
       "      <th>species</th>\n",
       "    </tr>\n",
       "  </thead>\n",
       "  <tbody>\n",
       "    <tr>\n",
       "      <th>190</th>\n",
       "      <td>0.432727</td>\n",
       "      <td>0.059524</td>\n",
       "      <td>0.610169</td>\n",
       "      <td>0.458333</td>\n",
       "      <td>0</td>\n",
       "      <td>1</td>\n",
       "    </tr>\n",
       "    <tr>\n",
       "      <th>125</th>\n",
       "      <td>0.309091</td>\n",
       "      <td>0.702381</td>\n",
       "      <td>0.457627</td>\n",
       "      <td>0.361111</td>\n",
       "      <td>2</td>\n",
       "      <td>0</td>\n",
       "    </tr>\n",
       "    <tr>\n",
       "      <th>281</th>\n",
       "      <td>0.476364</td>\n",
       "      <td>0.559524</td>\n",
       "      <td>0.440678</td>\n",
       "      <td>0.347222</td>\n",
       "      <td>1</td>\n",
       "      <td>2</td>\n",
       "    </tr>\n",
       "    <tr>\n",
       "      <th>12</th>\n",
       "      <td>0.327273</td>\n",
       "      <td>0.535714</td>\n",
       "      <td>0.169492</td>\n",
       "      <td>0.138889</td>\n",
       "      <td>2</td>\n",
       "      <td>0</td>\n",
       "    </tr>\n",
       "    <tr>\n",
       "      <th>210</th>\n",
       "      <td>0.403636</td>\n",
       "      <td>0.166667</td>\n",
       "      <td>0.610169</td>\n",
       "      <td>0.486111</td>\n",
       "      <td>0</td>\n",
       "      <td>1</td>\n",
       "    </tr>\n",
       "  </tbody>\n",
       "</table>\n",
       "</div>"
      ],
      "text/plain": [
       "     bill_length_mm  bill_depth_mm  flipper_length_mm  body_mass_g  island  \\\n",
       "190        0.432727       0.059524           0.610169     0.458333       0   \n",
       "125        0.309091       0.702381           0.457627     0.361111       2   \n",
       "281        0.476364       0.559524           0.440678     0.347222       1   \n",
       "12         0.327273       0.535714           0.169492     0.138889       2   \n",
       "210        0.403636       0.166667           0.610169     0.486111       0   \n",
       "\n",
       "     species  \n",
       "190        1  \n",
       "125        0  \n",
       "281        2  \n",
       "12         0  \n",
       "210        1  "
      ]
     },
     "execution_count": 11,
     "metadata": {},
     "output_type": "execute_result"
    }
   ],
   "source": [
    "#combining all dataframes together\n",
    "df = pd.concat([df_norm, df['island'], target], axis=1)\n",
    "df.sample(n=5)"
   ]
  },
  {
   "cell_type": "markdown",
   "id": "ab6eb6cd",
   "metadata": {},
   "source": [
    "**Splitting dataset into test and train in 80 to 20 ratio**"
   ]
  },
  {
   "cell_type": "code",
   "execution_count": 12,
   "id": "ebca2623",
   "metadata": {},
   "outputs": [],
   "source": [
    "train_data, test_data = train_test_split(df, test_size=0.2, random_state=1)"
   ]
  },
  {
   "cell_type": "code",
   "execution_count": 13,
   "id": "3b683f18",
   "metadata": {},
   "outputs": [
    {
     "data": {
      "text/plain": [
       "((266, 6), (67, 6))"
      ]
     },
     "execution_count": 13,
     "metadata": {},
     "output_type": "execute_result"
    }
   ],
   "source": [
    "train_data.shape, test_data.shape"
   ]
  },
  {
   "cell_type": "code",
   "execution_count": 14,
   "id": "f9dbee0d",
   "metadata": {},
   "outputs": [
    {
     "data": {
      "text/html": [
       "<div>\n",
       "<style scoped>\n",
       "    .dataframe tbody tr th:only-of-type {\n",
       "        vertical-align: middle;\n",
       "    }\n",
       "\n",
       "    .dataframe tbody tr th {\n",
       "        vertical-align: top;\n",
       "    }\n",
       "\n",
       "    .dataframe thead th {\n",
       "        text-align: right;\n",
       "    }\n",
       "</style>\n",
       "<table border=\"1\" class=\"dataframe\">\n",
       "  <thead>\n",
       "    <tr style=\"text-align: right;\">\n",
       "      <th></th>\n",
       "      <th>bill_length_mm</th>\n",
       "      <th>bill_depth_mm</th>\n",
       "      <th>flipper_length_mm</th>\n",
       "      <th>body_mass_g</th>\n",
       "      <th>island</th>\n",
       "      <th>species</th>\n",
       "    </tr>\n",
       "  </thead>\n",
       "  <tbody>\n",
       "    <tr>\n",
       "      <th>90</th>\n",
       "      <td>0.130909</td>\n",
       "      <td>0.583333</td>\n",
       "      <td>0.508475</td>\n",
       "      <td>0.236111</td>\n",
       "      <td>1</td>\n",
       "      <td>0</td>\n",
       "    </tr>\n",
       "    <tr>\n",
       "      <th>224</th>\n",
       "      <td>0.585455</td>\n",
       "      <td>0.297619</td>\n",
       "      <td>0.830508</td>\n",
       "      <td>0.666667</td>\n",
       "      <td>0</td>\n",
       "      <td>1</td>\n",
       "    </tr>\n",
       "    <tr>\n",
       "      <th>321</th>\n",
       "      <td>0.680000</td>\n",
       "      <td>0.642857</td>\n",
       "      <td>0.491525</td>\n",
       "      <td>0.486111</td>\n",
       "      <td>1</td>\n",
       "      <td>2</td>\n",
       "    </tr>\n",
       "    <tr>\n",
       "      <th>255</th>\n",
       "      <td>0.618182</td>\n",
       "      <td>0.226190</td>\n",
       "      <td>0.949153</td>\n",
       "      <td>0.777778</td>\n",
       "      <td>0</td>\n",
       "      <td>1</td>\n",
       "    </tr>\n",
       "    <tr>\n",
       "      <th>102</th>\n",
       "      <td>0.203636</td>\n",
       "      <td>0.345238</td>\n",
       "      <td>0.186441</td>\n",
       "      <td>0.104167</td>\n",
       "      <td>0</td>\n",
       "      <td>0</td>\n",
       "    </tr>\n",
       "    <tr>\n",
       "      <th>42</th>\n",
       "      <td>0.141818</td>\n",
       "      <td>0.642857</td>\n",
       "      <td>0.237288</td>\n",
       "      <td>0.111111</td>\n",
       "      <td>1</td>\n",
       "      <td>0</td>\n",
       "    </tr>\n",
       "  </tbody>\n",
       "</table>\n",
       "</div>"
      ],
      "text/plain": [
       "     bill_length_mm  bill_depth_mm  flipper_length_mm  body_mass_g  island  \\\n",
       "90         0.130909       0.583333           0.508475     0.236111       1   \n",
       "224        0.585455       0.297619           0.830508     0.666667       0   \n",
       "321        0.680000       0.642857           0.491525     0.486111       1   \n",
       "255        0.618182       0.226190           0.949153     0.777778       0   \n",
       "102        0.203636       0.345238           0.186441     0.104167       0   \n",
       "42         0.141818       0.642857           0.237288     0.111111       1   \n",
       "\n",
       "     species  \n",
       "90         0  \n",
       "224        1  \n",
       "321        2  \n",
       "255        1  \n",
       "102        0  \n",
       "42         0  "
      ]
     },
     "execution_count": 14,
     "metadata": {},
     "output_type": "execute_result"
    }
   ],
   "source": [
    "train_data.sample(n=6)"
   ]
  },
  {
   "cell_type": "code",
   "execution_count": 15,
   "id": "ed480ac4",
   "metadata": {},
   "outputs": [
    {
     "data": {
      "text/plain": [
       "array([[0.68727273, 0.67857143, 0.52542373, 0.38888889, 1.        ],\n",
       "       [0.36      , 0.04761905, 0.6440678 , 0.40277778, 0.        ],\n",
       "       [0.55272727, 0.26190476, 0.84745763, 0.70833333, 0.        ],\n",
       "       [0.62545455, 0.30952381, 0.76271186, 0.875     , 0.        ],\n",
       "       [0.50545455, 1.        , 0.37288136, 0.41666667, 2.        ]])"
      ]
     },
     "execution_count": 15,
     "metadata": {},
     "output_type": "execute_result"
    }
   ],
   "source": [
    "#category variables\n",
    "X = train_data.values[:,:5]\n",
    "X[:5]"
   ]
  },
  {
   "cell_type": "code",
   "execution_count": 16,
   "id": "ef00b9c4",
   "metadata": {},
   "outputs": [
    {
     "data": {
      "text/plain": [
       "array([[0, 0, 1],\n",
       "       [0, 1, 0],\n",
       "       [0, 1, 0],\n",
       "       [0, 1, 0],\n",
       "       [1, 0, 0]])"
      ]
     },
     "execution_count": 16,
     "metadata": {},
     "output_type": "execute_result"
    }
   ],
   "source": [
    "#target variable\n",
    "targets = [[1,0,0],[0,1,0],[0,0,1]]\n",
    "y = np.array([targets[int(x)] for x in train_data.values[:,5:6]])\n",
    "y[:5]"
   ]
  },
  {
   "cell_type": "markdown",
   "id": "b978cf5d",
   "metadata": {},
   "source": [
    "<br>\n",
    "\n",
    "<br>\n",
    "\n",
    "### Multilayer Perceptron"
   ]
  },
  {
   "cell_type": "code",
   "execution_count": 17,
   "id": "691b1642",
   "metadata": {},
   "outputs": [
    {
     "name": "stdout",
     "output_type": "stream",
     "text": [
      "\n",
      "Number of input layers =  5\n",
      "\n",
      "Number of output layers =  3\n"
     ]
    }
   ],
   "source": [
    "num_inputs, num_outputs = len(X[0]), len(y[0])\n",
    "print(\"\\nNumber of input layers = \", num_inputs)\n",
    "print(\"\\nNumber of output layers = \", num_outputs)"
   ]
  },
  {
   "cell_type": "code",
   "execution_count": 18,
   "id": "1d1d8292",
   "metadata": {},
   "outputs": [
    {
     "data": {
      "text/plain": [
       "[<matplotlib.lines.Line2D at 0x12e84e880>]"
      ]
     },
     "execution_count": 18,
     "metadata": {},
     "output_type": "execute_result"
    },
    {
     "data": {
      "image/png": "[encoded data removed]",
      "text/plain": [
       "<Figure size 640x480 with 1 Axes>"
      ]
     },
     "metadata": {},
     "output_type": "display_data"
    }
   ],
   "source": [
    "import matplotlib.pyplot as plt\n",
    "# sigmoid function representation\n",
    "_x = np.linspace( -5, 5, 50 )\n",
    "_y = 1 / ( 1 + np.exp( -_x ) )\n",
    "plt.plot( _x, _y )"
   ]
  },
  {
   "cell_type": "code",
   "execution_count": 19,
   "id": "db192f7d",
   "metadata": {},
   "outputs": [],
   "source": [
    "#defining sigmoid function\n",
    "def sigmoid(x):\n",
    "    return 1 / (1 + np.exp(-x))\n",
    "\n",
    "def der_sig(x):\n",
    "    return x*(1 - x)\n",
    "\n",
    "def weights(num_input, hidden_layer_neurons, num_outputs):\n",
    "    \n",
    "    #weights between input and hidden layer\n",
    "    w1 = 2*np.random.random((num_inputs, hidden_layer_neurons)) - 1\n",
    "    #weights between hidden and output layer\n",
    "    w2 = 2*np.random.random((hidden_layer_neurons, num_outputs)) - 1\n",
    "    \n",
    "    return w1, w2"
   ]
  },
  {
   "cell_type": "code",
   "execution_count": 20,
   "id": "b198e35f",
   "metadata": {},
   "outputs": [],
   "source": [
    "def mlp(lr, hidden_layer_neurons):\n",
    "    error = []\n",
    "    \n",
    "    w1, w2 = weights(num_inputs, hidden_layer_neurons, num_outputs)\n",
    "    print(\"\\nInitial weights of first layer : \\n\", w1)\n",
    "    print(\"\\nInitial weights of second layer : \\n\", w2)\n",
    "    \n",
    "    for epoch in range(1000):\n",
    "        #FEED FORWARD\n",
    "        # matrix multiplication between the input and the layer 1 weights fed into sigmoid function\n",
    "        l1 = sigmoid(np.dot(X, w1))\n",
    "        #second layer weight activtion\n",
    "        l2 = sigmoid(np.dot(l1, w2))\n",
    "        # average error of the batch\n",
    "        er = (abs(y - l2)).mean()\n",
    "        error.append(er)\n",
    "        \n",
    "        #BACKPROPAGATION\n",
    "        # error on each weight on the second layer\n",
    "        l2_delta = (y - l2)*der_sig(l2)\n",
    "        # weight update on second layer\n",
    "        w2 += l1.T.dot(l2_delta) * lr\n",
    "    \n",
    "        # error on each weight of the first layer\n",
    "        l1_delta = l2_delta.dot(w2.T) * der_sig(l1)\n",
    "        # udpate weights in the first layer\n",
    "        w1 += X.T.dot(l1_delta) * lr\n",
    "    \n",
    "    print(\"\\nWeights of second layer after backpropagation : \\n\", w2)\n",
    "    print(\"\\nWeights of first layer after backpropagation : \\n\", w1)\n",
    "    print(\"\\nFinal error : \", er)\n",
    "    print(\"------------------------------------------------------------------------------\")\n",
    "    #plt.plot(error)\n",
    "    return error, w1, w2\n",
    "        \n",
    "        "
   ]
  },
  {
   "cell_type": "markdown",
   "id": "5ba31649",
   "metadata": {},
   "source": [
    "**Testing**"
   ]
  },
  {
   "cell_type": "code",
   "execution_count": 21,
   "id": "eb9ecc06",
   "metadata": {},
   "outputs": [],
   "source": [
    "def test(w1, w2):\n",
    "    X = test_data.values[:,:5]\n",
    "    y = np.array([targets[int(x)] for x in test_data.values[:,5:6]])\n",
    "\n",
    "    l1 = sigmoid(np.dot(X, w1))\n",
    "    l2 = sigmoid(np.dot(l1, w2))\n",
    "\n",
    "    yp = np.argmax(l2, axis=1) # prediction\n",
    "    res = yp == np.argmax(y, axis=1)\n",
    "    correct = np.sum(res)/len(res)\n",
    "\n",
    "    testres = test_data[['species']].replace([0,1,2], ['Adelie','Gentoo', 'Chinstrap'])\n",
    "    \n",
    "    testres['Prediction'] = yp\n",
    "    testres['Prediction'] = testres['Prediction'].replace([0,1,2], ['Adelie','Gentoo', 'Chinstrap'])\n",
    "    \n",
    "    print(\"\\nComparison:\\n\")\n",
    "    print(testres)\n",
    "    print('Correct : ',sum(res),'/',len(res), '\\nAccuracy :', (correct*100),'%')\n",
    "    print(\"\\n\\nConfusion Matrix\")\n",
    "    print(confusion_matrix(testres['species'], testres['Prediction'],labels=['Adelie','Chinstrap','Gentoo']))\n",
    "    \n",
    "  \n",
    "    return"
   ]
  },
  {
   "cell_type": "markdown",
   "id": "356f0c45",
   "metadata": {},
   "source": [
    "<br>\n",
    "\n",
    "### For learning rate = 0.2 and hidden_layer_neurons= 2"
   ]
  },
  {
   "cell_type": "code",
   "execution_count": 22,
   "id": "f13f4db9",
   "metadata": {},
   "outputs": [
    {
     "name": "stdout",
     "output_type": "stream",
     "text": [
      "\n",
      "For learning rate = 0.2 and hidden_layer_neurons= 2\n",
      "\n",
      "Initial weights of first layer : \n",
      " [[ 0.75604951 -0.43121801]\n",
      " [-0.94175392 -0.86768432]\n",
      " [-0.05706774  0.36747963]\n",
      " [ 0.58081229 -0.46934267]\n",
      " [-0.04896041 -0.835449  ]]\n",
      "\n",
      "Initial weights of second layer : \n",
      " [[ 0.43308744  0.73539914 -0.2649941 ]\n",
      " [ 0.55895544  0.23786343 -0.20348045]]\n",
      "\n",
      "Weights of second layer after backpropagation : \n",
      " [[ -4.5828149    6.46699341  -4.69589655]\n",
      " [  3.8922146  -13.78111268  -3.55349107]]\n",
      "\n",
      "Weights of first layer after backpropagation : \n",
      " [[  1.13612268 -13.45029106]\n",
      " [ -9.45125666   5.72836878]\n",
      " [  2.82560905  -0.89803538]\n",
      " [  3.68739834   3.57578348]\n",
      " [ -4.66892852   0.50728688]]\n",
      "\n",
      "Final error :  0.1239297207738514\n",
      "------------------------------------------------------------------------------\n",
      "\n",
      "Comparison:\n",
      "\n",
      "       species Prediction\n",
      "65      Adelie     Adelie\n",
      "280  Chinstrap     Adelie\n",
      "187     Gentoo     Gentoo\n",
      "199     Gentoo     Gentoo\n",
      "296  Chinstrap     Adelie\n",
      "..         ...        ...\n",
      "257     Gentoo     Gentoo\n",
      "138     Adelie     Adelie\n",
      "86      Adelie     Adelie\n",
      "79      Adelie     Adelie\n",
      "198     Gentoo     Gentoo\n",
      "\n",
      "[67 rows x 2 columns]\n",
      "Correct :  54 / 67 \n",
      "Accuracy : 80.59701492537313 %\n",
      "\n",
      "\n",
      "Confusion Matrix\n",
      "[[28  0  0]\n",
      " [13  0  0]\n",
      " [ 0  0 26]]\n"
     ]
    },
    {
     "data": {
      "text/plain": [
       "Text(0.5, 0, 'Number of epoch')"
      ]
     },
     "execution_count": 22,
     "metadata": {},
     "output_type": "execute_result"
    },
    {
     "data": {
      "image/png": "[encoded data removed]",
      "text/plain": [
       "<Figure size 640x480 with 1 Axes>"
      ]
     },
     "metadata": {},
     "output_type": "display_data"
    }
   ],
   "source": [
    "print(\"\\nFor learning rate = 0.2 and hidden_layer_neurons= 2\")\n",
    "a, w1, w2 = mlp(lr = 0.05, hidden_layer_neurons= 2)\n",
    "test(w1, w2)\n",
    "plt.plot(a)\n",
    "plt.ylabel(\"Error\")\n",
    "plt.xlabel(\"Number of epoch\")"
   ]
  },
  {
   "cell_type": "markdown",
   "id": "34d2885a",
   "metadata": {},
   "source": [
    "<br>\n",
    "\n",
    "###For learning rate = 0.01 and hidden_layer_neurons= 3"
   ]
  },
  {
   "cell_type": "code",
   "execution_count": 23,
   "id": "fae95416",
   "metadata": {},
   "outputs": [
    {
     "name": "stdout",
     "output_type": "stream",
     "text": [
      "\n",
      "For learning rate = 0.01 and hidden_layer_neurons= 3\n",
      "\n",
      "Initial weights of first layer : \n",
      " [[-0.3885486  -0.05529039 -0.39441925]\n",
      " [-0.09508516 -0.64018919 -0.53893575]\n",
      " [ 0.52805766 -0.59380777 -0.87404128]\n",
      " [ 0.79634366 -0.84089487 -0.27484455]\n",
      " [-0.12988634 -0.19435816  0.66379915]]\n",
      "\n",
      "Initial weights of second layer : \n",
      " [[-0.06140831 -0.37517203  0.61637459]\n",
      " [-0.11626769 -0.09351256 -0.93750937]\n",
      " [-0.10824005  0.98742906  0.28227931]]\n",
      "\n",
      "Weights of second layer after backpropagation : \n",
      " [[-3.54822402  4.71120891 -3.81087716]\n",
      " [-2.6262503  -5.87491904  2.60157734]\n",
      " [ 6.52862805 -3.32602259 -5.79683825]]\n",
      "\n",
      "Weights of first layer after backpropagation : \n",
      " [[ 0.26764877 -2.73077926 -8.4587771 ]\n",
      " [-5.40152885  3.0188883   4.17973404]\n",
      " [ 2.14998889 -1.50353617 -1.34267927]\n",
      " [ 2.14265097 -0.67112949  1.73454228]\n",
      " [-1.84510059  3.40480702  0.70890383]]\n",
      "\n",
      "Final error :  0.0731494688506537\n",
      "------------------------------------------------------------------------------\n",
      "\n",
      "Comparison:\n",
      "\n",
      "       species Prediction\n",
      "65      Adelie     Adelie\n",
      "280  Chinstrap  Chinstrap\n",
      "187     Gentoo     Gentoo\n",
      "199     Gentoo     Gentoo\n",
      "296  Chinstrap     Adelie\n",
      "..         ...        ...\n",
      "257     Gentoo     Gentoo\n",
      "138     Adelie     Adelie\n",
      "86      Adelie     Adelie\n",
      "79      Adelie     Adelie\n",
      "198     Gentoo     Gentoo\n",
      "\n",
      "[67 rows x 2 columns]\n",
      "Correct :  66 / 67 \n",
      "Accuracy : 98.50746268656717 %\n",
      "\n",
      "\n",
      "Confusion Matrix\n",
      "[[28  0  0]\n",
      " [ 1 12  0]\n",
      " [ 0  0 26]]\n"
     ]
    },
    {
     "data": {
      "text/plain": [
       "Text(0.5, 0, 'Number of epoch')"
      ]
     },
     "execution_count": 23,
     "metadata": {},
     "output_type": "execute_result"
    },
    {
     "data": {
      "image/png": "[encoded data removed]",
      "text/plain": [
       "<Figure size 640x480 with 1 Axes>"
      ]
     },
     "metadata": {},
     "output_type": "display_data"
    }
   ],
   "source": [
    "print(\"\\nFor learning rate = 0.01 and hidden_layer_neurons= 3\")\n",
    "b, w1, w2 = mlp(lr = 0.01, hidden_layer_neurons = 3)\n",
    "test(w1, w2)\n",
    "plt.plot(b)\n",
    "plt.ylabel(\"Error\")\n",
    "plt.xlabel(\"Number of epoch\")"
   ]
  },
  {
   "cell_type": "markdown",
   "id": "140c71b0",
   "metadata": {},
   "source": [
    "<br>\n",
    "\n",
    "### For learning rate = 0.1 and hidden_layer_neurons= 5"
   ]
  },
  {
   "cell_type": "code",
   "execution_count": 24,
   "id": "616712aa",
   "metadata": {},
   "outputs": [
    {
     "name": "stdout",
     "output_type": "stream",
     "text": [
      "\n",
      "For learning rate = 0.1 and hidden_layer_neurons= 5\n",
      "\n",
      "Initial weights of first layer : \n",
      " [[-0.82161266 -0.41648389 -0.8038719  -0.5335109   0.10811185]\n",
      " [ 0.36221976  0.05956938 -0.30779171  0.01047247  0.34876778]\n",
      " [-0.05302696 -0.64459279  0.49456256 -0.22891697 -0.8812464 ]\n",
      " [-0.58023209 -0.55406127  0.23303056  0.03545317  0.58519593]\n",
      " [ 0.45101583 -0.88019742 -0.72239754  0.50338581 -0.37845962]]\n",
      "\n",
      "Initial weights of second layer : \n",
      " [[ 0.70020716  0.09813098  0.45007801]\n",
      " [-0.86502583 -0.00440758 -0.11906795]\n",
      " [-0.97559104  0.64772704  0.87523001]\n",
      " [-0.90052345  0.50994942  0.41351339]\n",
      " [ 0.96668215  0.41583602  0.81765661]]\n",
      "\n",
      "Weights of second layer after backpropagation : \n",
      " [[ 9.36268026 -6.43732644 -6.19813455]\n",
      " [-2.77007603 -0.91825881  1.72953786]\n",
      " [-2.58726474  6.68172553 -7.48932043]\n",
      " [-5.53003622 -3.23277359  5.32797846]\n",
      " [ 8.1413309  -2.85913327 -8.75564777]]\n",
      "\n",
      "Weights of first layer after backpropagation : \n",
      " [[-11.34080715   1.70397007   0.07038962   0.21540947 -11.85017415]\n",
      " [  6.05892287  -0.39274836  -5.4280222   -2.26682381   2.65853773]\n",
      " [ -0.87512353   1.04449665   2.97375381  -0.86833726  -1.61598118]\n",
      " [  2.2774909    0.49045915   2.6116268   -0.92892945   4.16291048]\n",
      " [  0.52689037   1.57897394  -3.81662772   5.47727337   2.16794531]]\n",
      "\n",
      "Final error :  0.008970367398590466\n",
      "------------------------------------------------------------------------------\n",
      "\n",
      "Comparison:\n",
      "\n",
      "       species Prediction\n",
      "65      Adelie     Adelie\n",
      "280  Chinstrap  Chinstrap\n",
      "187     Gentoo     Gentoo\n",
      "199     Gentoo     Gentoo\n",
      "296  Chinstrap  Chinstrap\n",
      "..         ...        ...\n",
      "257     Gentoo     Gentoo\n",
      "138     Adelie     Adelie\n",
      "86      Adelie     Adelie\n",
      "79      Adelie     Adelie\n",
      "198     Gentoo     Gentoo\n",
      "\n",
      "[67 rows x 2 columns]\n",
      "Correct :  67 / 67 \n",
      "Accuracy : 100.0 %\n",
      "\n",
      "\n",
      "Confusion Matrix\n",
      "[[28  0  0]\n",
      " [ 0 13  0]\n",
      " [ 0  0 26]]\n"
     ]
    },
    {
     "data": {
      "text/plain": [
       "Text(0.5, 0, 'Number of epoch')"
      ]
     },
     "execution_count": 24,
     "metadata": {},
     "output_type": "execute_result"
    },
    {
     "data": {
      "image/png": "[encoded data removed]",
      "text/plain": [
       "<Figure size 640x480 with 1 Axes>"
      ]
     },
     "metadata": {},
     "output_type": "display_data"
    }
   ],
   "source": [
    "print(\"\\nFor learning rate = 0.1 and hidden_layer_neurons= 5\")\n",
    "c, w1, w2 = mlp(lr = 0.1, hidden_layer_neurons = 5)\n",
    "test(w1, w2)\n",
    "plt.plot(c)\n",
    "plt.ylabel(\"Error\")\n",
    "plt.xlabel(\"Number of epoch\")"
   ]
  },
  {
   "cell_type": "markdown",
   "id": "c02c3aae",
   "metadata": {},
   "source": [
    "<br>\n",
    "\n",
    "### Final Plot of errors"
   ]
  },
  {
   "cell_type": "code",
   "execution_count": 25,
   "id": "3e595746",
   "metadata": {},
   "outputs": [
    {
     "data": {
      "image/png": "[encoded data removed]",
      "text/plain": [
       "<Figure size 640x480 with 1 Axes>"
      ]
     },
     "metadata": {},
     "output_type": "display_data"
    }
   ],
   "source": [
    "t = np.arange(0, 1000, 1)\n",
    "plt.plot(t, a, color='r', label='hidden layers = 2 and lr = 0.2')\n",
    "plt.plot(t, b, color='g', label='hidden layers = 3 and lr = 0.01')\n",
    "plt.plot(t, c, color='b', label='hidden layers = 5 and lr = 0.1')\n",
    "plt.ylabel(\"Error\")\n",
    "plt.xlabel(\"Number of epoch\")\n",
    "plt.legend()\n",
    "plt.show()"
   ]
  }
 ],
 "metadata": {
  "kernelspec": {
   "display_name": "venv",
   "language": "python",
   "name": "python3"
  },
  "language_info": {
   "codemirror_mode": {
    "name": "ipython",
    "version": 3
   },
   "file_extension": ".py",
   "mimetype": "text/x-python",
   "name": "python",
   "nbconvert_exporter": "python",
   "pygments_lexer": "ipython3",
   "version": "3.9.13"
  },
  "vscode": {
   "interpreter": {
    "hash": "5b00eb5e2cf0af636d921f2142b06d24e65a491315533597b8443b9aadd91e77"
   }
  }
 },
 "nbformat": 4,
 "nbformat_minor": 5
}
