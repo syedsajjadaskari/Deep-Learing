{
 "cells": [
  {
   "cell_type": "code",
   "execution_count": 1,
   "metadata": {},
   "outputs": [],
   "source": []
  },
  {
   "cell_type": "code",
   "execution_count": 3,
   "metadata": {},
   "outputs": [
    {
     "name": "stderr",
     "output_type": "stream",
     "text": [
      "2023-01-05 15:20:18.130637: I tensorflow/core/platform/cpu_feature_guard.cc:193] This TensorFlow binary is optimized with oneAPI Deep Neural Network Library (oneDNN) to use the following CPU instructions in performance-critical operations:  AVX2 FMA\n",
      "To enable them in other operations, rebuild TensorFlow with the appropriate compiler flags.\n"
     ]
    }
   ],
   "source": [
    "from dataclasses import dataclass\n",
    "from pathlib import Path\n",
    "import tensorflow as tf\n",
    "from deepClassifier.constants import *\n",
    "from deepClassifier.utils import *"
   ]
  },
  {
   "cell_type": "code",
   "execution_count": 5,
   "metadata": {},
   "outputs": [],
   "source": [
    "@dataclass(frozen=True)\n",
    "class PrepareBaseModel:\n",
    "    root_dir: Path\n",
    "    base_model_path: Path\n",
    "    updated_base_model: Path\n",
    "    params_image_size: list\n",
    "    params_learning_rate: float\n",
    "    params_include_top: bool\n",
    "    params_weights: str\n",
    "    params_classes: int\n"
   ]
  },
  {
   "cell_type": "code",
   "execution_count": 13,
   "metadata": {},
   "outputs": [],
   "source": [
    "class ConfigrationManager:\n",
    "    def __init(self, config_filepath = CONFIG_FILE_PATH, params_file_path = PARAMS_FILE_PATH):\n",
    "        self.config = read_yaml(config_filepath)\n",
    "        self.params = read_yaml(PARAMS_FILE_PATH)\n",
    "        create_directories([self.config.artifacts_root])\n",
    "    def get_prepare_base_mkodel_config(self) -> PrepareBaseModel:\n",
    "        config = self.config.prepare_base_model\n",
    "        print(config)\n",
    "\n",
    "    \n"
   ]
  },
  {
   "cell_type": "code",
   "execution_count": 9,
   "metadata": {},
   "outputs": [],
   "source": [
    "c = ConfigrationManager()"
   ]
  },
  {
   "cell_type": "code",
   "execution_count": 14,
   "metadata": {},
   "outputs": [],
   "source": [
    "c.get_prepare_base_mkodel_config()"
   ]
  },
  {
   "cell_type": "code",
   "execution_count": 15,
   "metadata": {},
   "outputs": [],
   "source": [
    "class  abc:\n",
    "    def __init__(self,config):\n",
    "        self.config = config\n",
    "    def ac(self):\n",
    "        config = self.config.abc\n",
    "        print(config)\n"
   ]
  },
  {
   "cell_type": "code",
   "execution_count": 25,
   "metadata": {},
   "outputs": [
    {
     "ename": "AttributeError",
     "evalue": "'int' object has no attribute 'abc'",
     "output_type": "error",
     "traceback": [
      "\u001b[0;31m---------------------------------------------------------------------------\u001b[0m",
      "\u001b[0;31mAttributeError\u001b[0m                            Traceback (most recent call last)",
      "Cell \u001b[0;32mIn[25], line 1\u001b[0m\n\u001b[0;32m----> 1\u001b[0m abc(\u001b[39m1\u001b[39;49m)\u001b[39m.\u001b[39;49mac()\n",
      "Cell \u001b[0;32mIn[15], line 5\u001b[0m, in \u001b[0;36mabc.ac\u001b[0;34m(self)\u001b[0m\n\u001b[1;32m      4\u001b[0m \u001b[39mdef\u001b[39;00m \u001b[39mac\u001b[39m(\u001b[39mself\u001b[39m):\n\u001b[0;32m----> 5\u001b[0m     config \u001b[39m=\u001b[39m \u001b[39mself\u001b[39;49m\u001b[39m.\u001b[39;49mconfig\u001b[39m.\u001b[39;49mabc\n\u001b[1;32m      6\u001b[0m     \u001b[39mprint\u001b[39m(abc)\n",
      "\u001b[0;31mAttributeError\u001b[0m: 'int' object has no attribute 'abc'"
     ]
    }
   ],
   "source": [
    "abc(1).ac()"
   ]
  },
  {
   "cell_type": "code",
   "execution_count": 23,
   "metadata": {},
   "outputs": [
    {
     "ename": "AttributeError",
     "evalue": "'int' object has no attribute 'abc'",
     "output_type": "error",
     "traceback": [
      "\u001b[0;31m---------------------------------------------------------------------------\u001b[0m",
      "\u001b[0;31mAttributeError\u001b[0m                            Traceback (most recent call last)",
      "Cell \u001b[0;32mIn[23], line 1\u001b[0m\n\u001b[0;32m----> 1\u001b[0m a\u001b[39m.\u001b[39;49mac()\n",
      "Cell \u001b[0;32mIn[15], line 5\u001b[0m, in \u001b[0;36mabc.ac\u001b[0;34m(self)\u001b[0m\n\u001b[1;32m      4\u001b[0m \u001b[39mdef\u001b[39;00m \u001b[39mac\u001b[39m(\u001b[39mself\u001b[39m):\n\u001b[0;32m----> 5\u001b[0m     config \u001b[39m=\u001b[39m \u001b[39mself\u001b[39;49m\u001b[39m.\u001b[39;49mconfig\u001b[39m.\u001b[39;49mabc\n\u001b[1;32m      6\u001b[0m     \u001b[39mprint\u001b[39m(abc)\n",
      "\u001b[0;31mAttributeError\u001b[0m: 'int' object has no attribute 'abc'"
     ]
    }
   ],
   "source": [
    "a.ac()"
   ]
  },
  {
   "cell_type": "code",
   "execution_count": null,
   "metadata": {},
   "outputs": [],
   "source": []
  }
 ],
 "metadata": {
  "kernelspec": {
   "display_name": "Python 3.9.13 ('venv': venv)",
   "language": "python",
   "name": "python3"
  },
  "language_info": {
   "codemirror_mode": {
    "name": "ipython",
    "version": 3
   },
   "file_extension": ".py",
   "mimetype": "text/x-python",
   "name": "python",
   "nbconvert_exporter": "python",
   "pygments_lexer": "ipython3",
   "version": "3.9.13"
  },
  "orig_nbformat": 4,
  "vscode": {
   "interpreter": {
    "hash": "5b00eb5e2cf0af636d921f2142b06d24e65a491315533597b8443b9aadd91e77"
   }
  }
 },
 "nbformat": 4,
 "nbformat_minor": 2
}
